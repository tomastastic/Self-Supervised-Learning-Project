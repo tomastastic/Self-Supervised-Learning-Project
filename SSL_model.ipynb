{
  "nbformat": 4,
  "nbformat_minor": 0,
  "metadata": {
    "colab": {
      "provenance": [],
      "include_colab_link": true
    },
    "kernelspec": {
      "name": "python3",
      "display_name": "Python 3"
    },
    "language_info": {
      "name": "python"
    },
    "accelerator": "TPU",
    "gpuClass": "standard"
  },
  "cells": [
    {
      "cell_type": "markdown",
      "metadata": {
        "id": "view-in-github",
        "colab_type": "text"
      },
      "source": [
        "<a href=\"https://colab.research.google.com/github/tomastastic/FinalProject/blob/main/SSL_model.ipynb\" target=\"_parent\"><img src=\"https://colab.research.google.com/assets/colab-badge.svg\" alt=\"Open In Colab\"/></a>"
      ]
    },
    {
      "cell_type": "markdown",
      "source": [
        "#Source:\n",
        "https://deeplearninguniversity.com/implementing-image-rotation-pretext-training-for-self-supervised-learning-using-keras/"
      ],
      "metadata": {
        "id": "R3cFaCXdNmGm"
      }
    },
    {
      "cell_type": "markdown",
      "metadata": {
        "id": "lDgGN_5qzrIP"
      },
      "source": [
        "# Importing libraries"
      ]
    },
    {
      "cell_type": "code",
      "metadata": {
        "id": "VUZ9Zz-djo45"
      },
      "source": [
        "# Importing Libraries\n",
        "import numpy as np\n",
        "import pandas as pd\n",
        "import matplotlib\n",
        "import matplotlib.pyplot as plt\n",
        "import tensorflow as tf\n",
        "from tensorflow import keras\n",
        "\n",
        "\n",
        "# example of loading the cifar10 dataset\n",
        "from matplotlib import pyplot\n",
        "from keras.datasets import cifar10"
      ],
      "execution_count": null,
      "outputs": []
    },
    {
      "cell_type": "markdown",
      "metadata": {
        "id": "o27G_rkKzyDY"
      },
      "source": [
        "# Loading Data"
      ]
    },
    {
      "cell_type": "code",
      "source": [
        "# load dataset and perform train/test split\n",
        "(X_train, y_train), (X_test, y_test) = cifar10.load_data()"
      ],
      "metadata": {
        "id": "hULBwDAMxjz9",
        "colab": {
          "base_uri": "https://localhost:8080/"
        },
        "outputId": "72bd7b81-b6a3-41fd-a817-1ee2d65d2012"
      },
      "execution_count": null,
      "outputs": [
        {
          "output_type": "stream",
          "name": "stdout",
          "text": [
            "Downloading data from https://www.cs.toronto.edu/~kriz/cifar-10-python.tar.gz\n",
            "170498071/170498071 [==============================] - 3s 0us/step\n"
          ]
        }
      ]
    },
    {
      "cell_type": "code",
      "metadata": {
        "id": "2Z4IpvU7yJ5S"
      },
      "source": [
        "#data=keras.datasets.cifar10\n",
        "# Getting the Data\n",
        "#(X_train, y_train), (X_test, y_test)=data.load_data()"
      ],
      "execution_count": null,
      "outputs": []
    },
    {
      "cell_type": "code",
      "source": [
        "print(\"Length of X_train\",len(X_train))\n",
        "print(\"Length of y_train\",len(y_train))\n",
        "print(\"Length of X_test\",len(X_test))\n",
        "print(\"Length of y_test\",len(y_test))\n"
      ],
      "metadata": {
        "colab": {
          "base_uri": "https://localhost:8080/"
        },
        "id": "E6_S_boK1c3B",
        "outputId": "4e203c59-17c5-4ae5-e820-868d43f15dd0"
      },
      "execution_count": null,
      "outputs": [
        {
          "output_type": "stream",
          "name": "stdout",
          "text": [
            "Length of X_train 50000\n",
            "Length of y_train 50000\n",
            "Length of X_test 10000\n",
            "Length of y_test 10000\n"
          ]
        }
      ]
    },
    {
      "cell_type": "code",
      "metadata": {
        "id": "y72SNo87O6l8"
      },
      "source": [
        "# Normalizing the Dataset\n",
        "X_train=X_train/255\n",
        "X_test=X_test/255"
      ],
      "execution_count": null,
      "outputs": []
    },
    {
      "cell_type": "code",
      "metadata": {
        "id": "_pwZ02bUN46z"
      },
      "source": [
        "# Creating Validation and Test set from X,Y_test\n",
        "X_val=X_test[:5000]\n",
        "y_val=y_test[:5000]\n",
        "\n",
        "X_test=X_test[5000:]\n",
        "y_test=y_test[5000:]"
      ],
      "execution_count": null,
      "outputs": []
    },
    {
      "cell_type": "code",
      "source": [
        "print(\"Length of X_val\",len(X_val))\n",
        "print(\"Length of y_val\",len(y_val))\n",
        "print(\"Length of X_test\",len(X_test))\n",
        "print(\"Length of y_test\",len(y_test))"
      ],
      "metadata": {
        "colab": {
          "base_uri": "https://localhost:8080/"
        },
        "id": "A0AhPyKwOsaJ",
        "outputId": "3874b4b0-a497-4aad-c070-4584d1732749"
      },
      "execution_count": null,
      "outputs": [
        {
          "output_type": "stream",
          "name": "stdout",
          "text": [
            "Length of X_val 5000\n",
            "Length of y_val 5000\n",
            "Length of X_test 5000\n",
            "Length of y_test 5000\n"
          ]
        }
      ]
    },
    {
      "cell_type": "code",
      "metadata": {
        "id": "Uced0wYnOfpL"
      },
      "source": [
        "# Creating Un-labeled dataset\n",
        "X_unlabeled=X_train[10000:]\n",
        "\n",
        "# Creating Labeled dataset\n",
        "X_labeled=X_train[:10000]\n",
        "y_labeled=y_train[:10000]"
      ],
      "execution_count": null,
      "outputs": []
    },
    {
      "cell_type": "code",
      "source": [
        "print(\"Unlabeled:\")\n",
        "print(\"Length of X_unlabeled\",len(X_unlabeled))\n",
        "print(\"Labeled:\")\n",
        "print(\"Length of X_labeled\",len(X_labeled))\n",
        "print(\"Length of y_labeled\",len(y_labeled))"
      ],
      "metadata": {
        "colab": {
          "base_uri": "https://localhost:8080/"
        },
        "outputId": "5d98caff-78fe-4072-ddf1-629c75b4b07e",
        "id": "jap5U2lh61Ud"
      },
      "execution_count": null,
      "outputs": [
        {
          "output_type": "stream",
          "name": "stdout",
          "text": [
            "Unlabeled:\n",
            "Length of X_unlabeled 40000\n",
            "Labeled:\n",
            "Length of X_labeled 10000\n",
            "Length of y_labeled 10000\n"
          ]
        }
      ]
    },
    {
      "cell_type": "markdown",
      "metadata": {
        "id": "cDyufD5wz3to"
      },
      "source": [
        "#Preprocessing Data and creating a validation set"
      ]
    },
    {
      "cell_type": "code",
      "metadata": {
        "id": "Gu7aoc05vpHx"
      },
      "source": [
        "# X_train_0 dataset will contain images rotated by 0 degrees(No rotation)\n",
        "X_train_0=X_unlabeled.copy()\n",
        "\n",
        "# X_train_90 dataset will contain images rotated by 90 degrees\n",
        "X_train_90=np.rot90(X_unlabeled, axes=(1,2))\n",
        "\n",
        "# X_train_180 dataset will contain images rotated by 180 degrees\n",
        "X_train_180=np.rot90(X_unlabeled, 2, axes=(1,2))\n",
        "\n",
        "# X_train_270 dataset will contain images rotated by 270 degrees\n",
        "X_train_270=np.rot90(X_unlabeled, 3, axes=(1,2))"
      ],
      "execution_count": null,
      "outputs": []
    },
    {
      "cell_type": "code",
      "source": [
        "print(\"Length of X_train_0\",len(X_train_0))\n",
        "print(\"Length of X_train_0,90,180,270 (Individually):\",len(X_train_90))\n"
      ],
      "metadata": {
        "colab": {
          "base_uri": "https://localhost:8080/"
        },
        "outputId": "71a058f2-3faa-4d9e-cbb1-586639d3fae5",
        "id": "ZI8zrApqCaIH"
      },
      "execution_count": null,
      "outputs": [
        {
          "output_type": "stream",
          "name": "stdout",
          "text": [
            "Length of X_train_0 40000\n",
            "Length of X_train_0,90,180,270 (Individually): 40000\n"
          ]
        }
      ]
    },
    {
      "cell_type": "code",
      "metadata": {
        "id": "HfIRJKVvPfYU"
      },
      "source": [
        "# Assigning pseudo-labels to rotated image datasets\n",
        "y_train_0=np.full((40000), 0)\n",
        "y_train_90=np.full((40000), 1)\n",
        "y_train_180=np.full((40000), 2)\n",
        "y_train_270=np.full((40000), 3)"
      ],
      "execution_count": null,
      "outputs": []
    },
    {
      "cell_type": "code",
      "metadata": {
        "id": "WMmb92uIQhJE"
      },
      "source": [
        "# Concatenating Datasets\n",
        "X_train_unlabeled_full=np.concatenate((X_train_0, X_train_90, X_train_180, X_train_270), axis=0)\n",
        "y_train_unlabeled_full=np.concatenate((y_train_0, y_train_90, y_train_180, y_train_270), axis=0)"
      ],
      "execution_count": null,
      "outputs": []
    },
    {
      "cell_type": "code",
      "source": [
        "print(\"Length of X_train_unlabeled_full\",len(X_train_unlabeled_full))\n",
        "print(\"Length of y_train_unlabeled_full\",len(y_train_unlabeled_full))\n"
      ],
      "metadata": {
        "colab": {
          "base_uri": "https://localhost:8080/"
        },
        "id": "EmJ3G-9vC5PJ",
        "outputId": "64452f35-fd9a-46f7-fc27-97c02ad66adb"
      },
      "execution_count": null,
      "outputs": [
        {
          "output_type": "stream",
          "name": "stdout",
          "text": [
            "Length of X_train_unlabeled_full 160000\n",
            "Length of y_train_unlabeled_full 160000\n"
          ]
        }
      ]
    },
    {
      "cell_type": "markdown",
      "source": [
        "##These 3 must go, in favour of Andrew Ng standarized data methods:\n",
        " https://cs230.stanford.edu/blog/split/"
      ],
      "metadata": {
        "id": "9wxY1tf7EDZX"
      }
    },
    {
      "cell_type": "code",
      "metadata": {
        "id": "BqIRFaAgSmIi"
      },
      "source": [
        "# The function will distribute the samples uniformly over dataset\n",
        "def unison_shuffled_copies(a, b):\n",
        "    assert len(a) == len(b)\n",
        "    p = np.random.permutation(len(a))\n",
        "    return a[p], b[p]\n"
      ],
      "execution_count": null,
      "outputs": []
    },
    {
      "cell_type": "code",
      "metadata": {
        "id": "UqZvHunlvIhC"
      },
      "source": [
        "# Randomly shuffling the concatenated dataset\n",
        "X_train_unlabeled_full_shuffled, y_train_unlabeled_full_shuffled = (X_train_unlabeled_full, y_train_unlabeled_full)"
      ],
      "execution_count": null,
      "outputs": []
    },
    {
      "cell_type": "code",
      "metadata": {
        "id": "JC8OeE2SS-QF"
      },
      "source": [
        "# Randomly shuffling the concatenated dataset\n",
        "#X_train_unlabeled_full_shuffled, y_train_unlabeled_full_shuffled = unison_shuffled_copies(X_train_unlabeled_full, y_train_unlabeled_full)"
      ],
      "execution_count": null,
      "outputs": []
    },
    {
      "cell_type": "markdown",
      "metadata": {
        "id": "I4RSElybTbwi"
      },
      "source": [
        "# Creating a CNN and training it on rotations of image"
      ]
    },
    {
      "cell_type": "code",
      "metadata": {
        "id": "jJGejh9hTY-g"
      },
      "source": [
        "# Creating a Convolutional Neural Network\n",
        "model = keras.models.Sequential([\n",
        "        keras.layers.Conv2D(64, 7, activation=\"relu\", padding=\"same\",\n",
        "                            input_shape=[32, 32, 3]),\n",
        "        keras.layers.MaxPooling2D(2),\n",
        "        keras.layers.Conv2D(128, 3, activation=\"relu\", padding=\"same\"),\n",
        "        keras.layers.Conv2D(128, 3, activation=\"relu\", padding=\"same\"),\n",
        "        keras.layers.MaxPooling2D(2),\n",
        "        keras.layers.Conv2D(256, 3, activation=\"relu\", padding=\"same\"),\n",
        "        keras.layers.Conv2D(256, 3, activation=\"relu\", padding=\"same\"),\n",
        "        keras.layers.MaxPooling2D(2),\n",
        "        keras.layers.Flatten(),\n",
        "        keras.layers.Dense(128, activation=\"relu\"),\n",
        "        keras.layers.Dropout(0.5),\n",
        "        keras.layers.Dense(64, activation=\"relu\"),\n",
        "        keras.layers.Dropout(0.5),\n",
        "        keras.layers.Dense(4, activation=\"softmax\")\n",
        "])"
      ],
      "execution_count": null,
      "outputs": []
    },
    {
      "cell_type": "code",
      "metadata": {
        "id": "VOVI0SouT3YT"
      },
      "source": [
        "# Compiling the model\n",
        "model.compile(loss=\"sparse_categorical_crossentropy\", optimizer=\"sgd\", metrics=[\"accuracy\"])"
      ],
      "execution_count": null,
      "outputs": []
    },
    {
      "cell_type": "markdown",
      "source": [
        "##DATA BITS START"
      ],
      "metadata": {
        "id": "mISFM1WbVGk-"
      }
    },
    {
      "cell_type": "code",
      "metadata": {
        "id": "Mqx0PJs9UJMe"
      },
      "source": [
        "# Creating Validation and Test Dataset for Pretext Task\n",
        "#X-validation,Y-Training\n",
        "X_rot_val, X_rot_train = X_train_unlabeled_full_shuffled[:10000], X_train_unlabeled_full_shuffled[10000:]\n",
        "#Y-validation,Y-Training\n",
        "y_rot_val, y_rot_train = y_train_unlabeled_full_shuffled[:10000], y_train_unlabeled_full_shuffled[10000:]"
      ],
      "execution_count": null,
      "outputs": []
    },
    {
      "cell_type": "code",
      "metadata": {
        "id": "CG-OdGkWYbuy"
      },
      "source": [
        "# Reshaping the Inputs\n",
        "X_rot_val=X_rot_val.reshape(-1, 32, 32, 3)\n",
        "X_rot_train=X_rot_train.reshape(-1, 32, 32, 3)"
      ],
      "execution_count": null,
      "outputs": []
    },
    {
      "cell_type": "markdown",
      "source": [
        "##DATA BITS END"
      ],
      "metadata": {
        "id": "pxGQ2J4XVUFC"
      }
    },
    {
      "cell_type": "code",
      "metadata": {
        "id": "Yc6n5R-hZOEH",
        "outputId": "d7bbf3ad-65ac-4a7e-c885-19a01c572549",
        "colab": {
          "base_uri": "https://localhost:8080/",
          "height": 203
        }
      },
      "source": [
        "#WTF does this do?\n",
        "\n",
        "tf.config.run_functions_eagerly(True)"
      ],
      "execution_count": null,
      "outputs": [
        {
          "output_type": "error",
          "ename": "NameError",
          "evalue": "ignored",
          "traceback": [
            "\u001b[0;31m---------------------------------------------------------------------------\u001b[0m",
            "\u001b[0;31mNameError\u001b[0m                                 Traceback (most recent call last)",
            "\u001b[0;32m<ipython-input-1-d67816bbeb08>\u001b[0m in \u001b[0;36m<cell line: 3>\u001b[0;34m()\u001b[0m\n\u001b[1;32m      1\u001b[0m \u001b[0;31m#WTF does this do?\u001b[0m\u001b[0;34m\u001b[0m\u001b[0;34m\u001b[0m\u001b[0m\n\u001b[1;32m      2\u001b[0m \u001b[0;34m\u001b[0m\u001b[0m\n\u001b[0;32m----> 3\u001b[0;31m \u001b[0mtf\u001b[0m\u001b[0;34m.\u001b[0m\u001b[0mconfig\u001b[0m\u001b[0;34m.\u001b[0m\u001b[0mrun_functions_eagerly\u001b[0m\u001b[0;34m(\u001b[0m\u001b[0;32mTrue\u001b[0m\u001b[0;34m)\u001b[0m\u001b[0;34m\u001b[0m\u001b[0;34m\u001b[0m\u001b[0m\n\u001b[0m",
            "\u001b[0;31mNameError\u001b[0m: name 'tf' is not defined"
          ]
        }
      ]
    },
    {
      "cell_type": "code",
      "source": [
        "print(\"Length of X_rot_train\",len(X_rot_train))\n",
        "print(\"Length of y_rot_train\",len(y_rot_train))\n",
        "print(\"Length of X_rot_val\",len(X_rot_val))\n",
        "print(\"Length of y_rot_val\",len(y_rot_val))"
      ],
      "metadata": {
        "colab": {
          "base_uri": "https://localhost:8080/"
        },
        "id": "AloFnW2kN0v9",
        "outputId": "4b885e62-ef2f-4b11-9965-e20e52512492"
      },
      "execution_count": null,
      "outputs": [
        {
          "output_type": "stream",
          "name": "stdout",
          "text": [
            "Length of X_rot_train 150000\n",
            "Length of y_rot_train 150000\n",
            "Length of X_rot_val 10000\n",
            "Length of y_rot_val 10000\n"
          ]
        }
      ]
    },
    {
      "cell_type": "code",
      "metadata": {
        "colab": {
          "base_uri": "https://localhost:8080/"
        },
        "id": "x153uoJ2Urp3",
        "outputId": "2f6b2939-0494-4bdf-90ef-1dc1c0c54de3"
      },
      "source": [
        "# Training the model on Pretext Task\n",
        "history = model.fit(X_rot_train, y_rot_train, epochs=5, validation_data=(X_rot_val, y_rot_val))"
      ],
      "execution_count": null,
      "outputs": [
        {
          "metadata": {
            "tags": null
          },
          "name": "stderr",
          "output_type": "stream",
          "text": [
            "/usr/local/lib/python3.10/dist-packages/tensorflow/python/data/ops/structured_function.py:254: UserWarning: Even though the `tf.config.experimental_run_functions_eagerly` option is set, this option does not apply to tf.data functions. To force eager execution of tf.data functions, please use `tf.data.experimental.enable_debug_mode()`.\n",
            "  warnings.warn(\n"
          ]
        },
        {
          "output_type": "stream",
          "name": "stdout",
          "text": [
            "Epoch 1/5\n",
            "4688/4688 [==============================] - 3775s 805ms/step - loss: 1.2147 - accuracy: 0.4407 - val_loss: 1.2469 - val_accuracy: 0.3597\n",
            "Epoch 2/5\n",
            "4688/4688 [==============================] - 3784s 807ms/step - loss: 1.0996 - accuracy: 0.5110 - val_loss: 1.3223 - val_accuracy: 0.2951\n",
            "Epoch 3/5\n",
            "4688/4688 [==============================] - 3656s 780ms/step - loss: 1.0528 - accuracy: 0.5438 - val_loss: 1.1417 - val_accuracy: 0.4354\n",
            "4688/4688 [==============================] - 3656s 780ms/step - loss: 1.0528 - accuracy: 0.5438 - val_loss: 1.1417 - val_accuracy: 0.4354\n",
            "Epoch 4/5\n",
            "Epoch 4/5\n",
            "4688/4688 [==============================] - 4024s 858ms/step - loss: 0.9855 - accuracy: 0.5925 - val_loss: 1.3826 - val_accuracy: 0.3492\n",
            "4688/4688 [==============================] - 4024s 858ms/step - loss: 0.9855 - accuracy: 0.5925 - val_loss: 1.3826 - val_accuracy: 0.3492\n",
            "Epoch 5/5\n",
            "Epoch 5/5\n",
            "4688/4688 [==============================] - 3891s 830ms/step - loss: 0.9366 - accuracy: 0.6197 - val_loss: 1.0609 - val_accuracy: 0.5434\n",
            "4688/4688 [==============================] - 3891s 830ms/step - loss: 0.9366 - accuracy: 0.6197 - val_loss: 1.0609 - val_accuracy: 0.5434\n"
          ]
        }
      ]
    },
    {
      "cell_type": "code",
      "metadata": {
        "id": "FBunUzsczBlj"
      },
      "source": [
        "# Checking the Model Architecture\n",
        "model.summary()"
      ],
      "execution_count": null,
      "outputs": []
    },
    {
      "cell_type": "code",
      "source": [
        "#SAVE MODEL\n",
        "from google.colab import drive\n",
        "drive.mount('/content/gdrive')\n",
        "model_name = \"Unsupervised\"\n",
        "path = f\"/content/gdrive/My Drive/A Final Project/Dev/{model_name}\"\n",
        "model.save(path)"
      ],
      "metadata": {
        "id": "ncJgP7WSFfcY"
      },
      "execution_count": null,
      "outputs": []
    },
    {
      "cell_type": "code",
      "metadata": {
        "id": "pRtCynZBpI9P"
      },
      "source": [
        "# Removing the top layer and addding a new top layer\n",
        "model.pop()\n",
        "model.add(keras.layers.Dense(10, name='dense_3', activation='softmax'))"
      ],
      "execution_count": null,
      "outputs": []
    },
    {
      "cell_type": "code",
      "metadata": {
        "id": "30zca1Vcq1Mo"
      },
      "source": [
        "\n",
        "\n",
        "# Checking the changes in Model Architecture\n",
        "model.summary()"
      ],
      "execution_count": null,
      "outputs": []
    },
    {
      "cell_type": "code",
      "metadata": {
        "id": "iU9-UEJ8rS7X"
      },
      "source": [
        "# Check the 'Trainable' status of each layer\n",
        "for layer in model.layers:\n",
        "    print(layer.name, layer.trainable)"
      ],
      "execution_count": null,
      "outputs": []
    },
    {
      "cell_type": "code",
      "metadata": {
        "id": "70p16Vb_ruj2"
      },
      "source": [
        "# Freezing the Convolutional Layers while keeping Dense layers as Trainable\n",
        "for layer in model.layers:\n",
        "    if layer.name in ['dense_3', 'dense_1', 'dense', 'dropout', 'dropout_1']:\n",
        "      layer.trainable=True\n",
        "    else:\n",
        "      layer.trainable=False"
      ],
      "execution_count": null,
      "outputs": []
    },
    {
      "cell_type": "code",
      "metadata": {
        "id": "DNAXyPxnsDQ0",
        "colab": {
          "base_uri": "https://localhost:8080/"
        },
        "outputId": "740bcf1c-4563-4cc8-d2b2-e38a287073fa"
      },
      "source": [
        "# Checking if the changes in 'Trainable' status of each layer have taken place\n",
        "for layer in model.layers:\n",
        "    print(layer.name, layer.trainable)"
      ],
      "execution_count": null,
      "outputs": [
        {
          "output_type": "stream",
          "name": "stdout",
          "text": [
            "conv2d False\n",
            "max_pooling2d False\n",
            "conv2d_1 False\n",
            "conv2d_2 False\n",
            "max_pooling2d_1 False\n",
            "conv2d_3 False\n",
            "conv2d_4 False\n",
            "max_pooling2d_2 False\n",
            "flatten False\n",
            "dense True\n",
            "dropout True\n",
            "dense_1 True\n",
            "dropout_1 True\n",
            "dense_3 True\n",
            "conv2d False\n",
            "max_pooling2d False\n",
            "conv2d_1 False\n",
            "conv2d_2 False\n",
            "max_pooling2d_1 False\n",
            "conv2d_3 False\n",
            "conv2d_4 False\n",
            "max_pooling2d_2 False\n",
            "flatten False\n",
            "dense True\n",
            "dropout True\n",
            "dense_1 True\n",
            "dropout_1 True\n",
            "dense_3 True\n"
          ]
        }
      ]
    },
    {
      "cell_type": "markdown",
      "source": [],
      "metadata": {
        "id": "oCfNEe3-Zaex"
      }
    },
    {
      "cell_type": "markdown",
      "source": [
        "#DATA BITS START"
      ],
      "metadata": {
        "id": "rkfpr6CuZe2I"
      }
    },
    {
      "cell_type": "code",
      "metadata": {
        "id": "UkrwLVmKshzl"
      },
      "source": [
        "# Reshaping the Inputs\n",
        "X_labeled=X_labeled.reshape(-1, 32, 32, 3)\n",
        "X_val=X_val.reshape(-1, 32, 32, 3)\n",
        "X_test=X_test.reshape(-1, 32, 32, 3)"
      ],
      "execution_count": null,
      "outputs": []
    },
    {
      "cell_type": "code",
      "metadata": {
        "id": "2iEq5WJXsGWZ",
        "colab": {
          "base_uri": "https://localhost:8080/"
        },
        "outputId": "6e7b52f9-f4f0-42d3-a0b0-710a445fe5c6"
      },
      "source": [
        "# Compiling the model\n",
        "model.compile(loss=\"sparse_categorical_crossentropy\", optimizer=\"sgd\", metrics=[\"accuracy\"])\n",
        "\n",
        "# Training the model on Downstream Task\n",
        "history=model.fit(X_labeled, y_labeled, validation_data=(X_val, y_val), epochs=10)"
      ],
      "execution_count": null,
      "outputs": [
        {
          "output_type": "stream",
          "name": "stdout",
          "text": [
            "Epoch 1/10\n",
            "313/313 [==============================] - 328s 1s/step - loss: 2.1469 - accuracy: 0.1927 - val_loss: 2.0403 - val_accuracy: 0.2796\n",
            "Epoch 2/10\n",
            "313/313 [==============================] - 321s 1s/step - loss: 2.0815 - accuracy: 0.2226 - val_loss: 1.9831 - val_accuracy: 0.3008\n",
            "Epoch 3/10\n",
            "313/313 [==============================] - 328s 1s/step - loss: 2.0228 - accuracy: 0.2373 - val_loss: 1.9099 - val_accuracy: 0.3266\n",
            "Epoch 4/10\n",
            "313/313 [==============================] - 328s 1s/step - loss: 1.9750 - accuracy: 0.2540 - val_loss: 1.8636 - val_accuracy: 0.3430\n",
            "Epoch 5/10\n",
            "313/313 [==============================] - 314s 1s/step - loss: 1.9356 - accuracy: 0.2676 - val_loss: 1.8113 - val_accuracy: 0.3596\n",
            "Epoch 6/10\n",
            "313/313 [==============================] - 321s 1s/step - loss: 1.9064 - accuracy: 0.2767 - val_loss: 1.7874 - val_accuracy: 0.3664\n",
            "Epoch 7/10\n",
            "313/313 [==============================] - 332s 1s/step - loss: 1.8655 - accuracy: 0.2982 - val_loss: 1.7509 - val_accuracy: 0.3734\n",
            "Epoch 8/10\n",
            "313/313 [==============================] - 320s 1s/step - loss: 1.8555 - accuracy: 0.3049 - val_loss: 1.7279 - val_accuracy: 0.3788\n",
            "Epoch 9/10\n",
            "313/313 [==============================] - 319s 1s/step - loss: 1.8319 - accuracy: 0.3110 - val_loss: 1.7200 - val_accuracy: 0.3728\n",
            "Epoch 10/10\n",
            "313/313 [==============================] - 329s 1s/step - loss: 1.8123 - accuracy: 0.3223 - val_loss: 1.6889 - val_accuracy: 0.4038\n"
          ]
        }
      ]
    },
    {
      "cell_type": "code",
      "source": [
        "#SAVE Superv MODEL\n",
        "#Source: https://machinelearningmastery.com/save-load-keras-deep-learning-models/#:~:text=The%20weights%20are%20saved%20directly,the%20symmetrical%20load_weights()%20function.\n",
        "from google.colab import drive\n",
        "drive.mount('/content/gdrive')\n",
        "model_name = \"supervised.h5\"\n",
        "path = f\"/content/gdrive/My Drive/A Final Project/Dev/{model_name}\"\n",
        "model.save(path)\n"
      ],
      "metadata": {
        "colab": {
          "base_uri": "https://localhost:8080/"
        },
        "outputId": "e351d1e9-5c03-4dc4-e8dd-f5bad4775618",
        "id": "-sO-sk5QG4Y3"
      },
      "execution_count": null,
      "outputs": [
        {
          "output_type": "stream",
          "name": "stdout",
          "text": [
            "Drive already mounted at /content/gdrive; to attempt to forcibly remount, call drive.mount(\"/content/gdrive\", force_remount=True).\n"
          ]
        }
      ]
    },
    {
      "cell_type": "code",
      "metadata": {
        "id": "lBzwmXT-saYE",
        "colab": {
          "base_uri": "https://localhost:8080/"
        },
        "outputId": "49bde99a-bb0c-4282-c096-d1f6570e9fb6"
      },
      "source": [
        "# Evaluating the model on the Test set\n",
        "model.evaluate(X_test, y_test)"
      ],
      "execution_count": null,
      "outputs": [
        {
          "output_type": "stream",
          "name": "stdout",
          "text": [
            "157/157 [==============================] - 39s 246ms/step - loss: 1.7034 - accuracy: 0.3840\n"
          ]
        },
        {
          "output_type": "execute_result",
          "data": {
            "text/plain": [
              "[1.703398585319519, 0.3840000033378601]"
            ]
          },
          "metadata": {},
          "execution_count": 36
        }
      ]
    }
  ]
}