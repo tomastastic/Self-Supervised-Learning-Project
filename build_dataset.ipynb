{
  "nbformat": 4,
  "nbformat_minor": 0,
  "metadata": {
    "colab": {
      "provenance": [],
      "collapsed_sections": [
        "4LHqBnLMrdSY"
      ],
      "authorship_tag": "ABX9TyN+ZukzaU2+HQcv80TouFl7",
      "include_colab_link": true
    },
    "kernelspec": {
      "name": "python3",
      "display_name": "Python 3"
    },
    "language_info": {
      "name": "python"
    }
  },
  "cells": [
    {
      "cell_type": "markdown",
      "metadata": {
        "id": "view-in-github",
        "colab_type": "text"
      },
      "source": [
        "<a href=\"https://colab.research.google.com/github/tomastastic/FinalProject/blob/main/build_dataset.ipynb\" target=\"_parent\"><img src=\"https://colab.research.google.com/assets/colab-badge.svg\" alt=\"Open In Colab\"/></a>"
      ]
    },
    {
      "cell_type": "markdown",
      "source": [
        "# Building the Dataset\n",
        "\n",
        "from H.M. Andrew Ng\n",
        "-Standardize the dataset for reproducibility.\n",
        "-We should have a reproducible script to create the train/dev/test split\n",
        "-any randomness involved uses a fixed seed\n"
      ],
      "metadata": {
        "id": "W8y8VrQHisLe"
      }
    },
    {
      "cell_type": "markdown",
      "source": [
        "##Source:\n",
        "https://cs230.stanford.edu/blog/split/\n",
        "\n",
        "https://deeplearninguniversity.com/implementing-image-rotation-pretext-training-for-self-supervised-learning-using-keras/"
      ],
      "metadata": {
        "id": "R3cFaCXdNmGm"
      }
    },
    {
      "cell_type": "markdown",
      "metadata": {
        "id": "lDgGN_5qzrIP"
      },
      "source": [
        "# Importing libraries"
      ]
    },
    {
      "cell_type": "code",
      "metadata": {
        "id": "VUZ9Zz-djo45",
        "colab": {
          "base_uri": "https://localhost:8080/"
        },
        "outputId": "aba204a3-bd11-4873-b8c2-e65519cae3b2"
      },
      "source": [
        "# Importing Libraries\n",
        "import numpy as np\n",
        "import pandas as pd\n",
        "import matplotlib\n",
        "import matplotlib.pyplot as plt\n",
        "import tensorflow as tf\n",
        "from tensorflow import keras\n",
        "from keras.datasets import cifar10\n",
        "\n",
        "#Mount Google drive\n",
        "from google.colab import drive\n",
        "drive.mount('/content/drive', force_remount=True)\n",
        "\n"
      ],
      "execution_count": null,
      "outputs": [
        {
          "output_type": "stream",
          "name": "stdout",
          "text": [
            "Mounted at /content/drive\n"
          ]
        }
      ]
    },
    {
      "cell_type": "markdown",
      "metadata": {
        "id": "o27G_rkKzyDY"
      },
      "source": [
        "# Loading Data"
      ]
    },
    {
      "cell_type": "code",
      "source": [
        "# load dataset and perform train/test split\n",
        "(X_train, y_train), (X_test, y_test) = cifar10.load_data()"
      ],
      "metadata": {
        "id": "hULBwDAMxjz9"
      },
      "execution_count": null,
      "outputs": []
    },
    {
      "cell_type": "code",
      "source": [
        "print(\"Length of X_train\",len(X_train))\n",
        "print(\"Length of y_train\",len(y_train))\n",
        "print(\"Length of X_test\",len(X_test))\n",
        "print(\"Length of y_test\",len(y_test))\n"
      ],
      "metadata": {
        "colab": {
          "base_uri": "https://localhost:8080/"
        },
        "id": "E6_S_boK1c3B",
        "outputId": "e7223cdb-a7bb-438f-b4b5-4b8b3dbee28c"
      },
      "execution_count": null,
      "outputs": [
        {
          "output_type": "stream",
          "name": "stdout",
          "text": [
            "Length of X_train 50000\n",
            "Length of y_train 50000\n",
            "Length of X_test 10000\n",
            "Length of y_test 10000\n"
          ]
        }
      ]
    },
    {
      "cell_type": "code",
      "metadata": {
        "id": "y72SNo87O6l8"
      },
      "source": [
        "# Normalizing the Dataset\n",
        "X_train=X_train/255\n",
        "X_test=X_test/255"
      ],
      "execution_count": null,
      "outputs": []
    },
    {
      "cell_type": "code",
      "metadata": {
        "id": "_pwZ02bUN46z"
      },
      "source": [
        "# Creating Validation and Test set from X,Y_test\n",
        "X_val=X_test[:5000]\n",
        "y_val=y_test[:5000]\n",
        "\n",
        "X_test=X_test[5000:]\n",
        "y_test=y_test[5000:]"
      ],
      "execution_count": null,
      "outputs": []
    },
    {
      "cell_type": "code",
      "source": [
        "print(\"Length of X_val\",len(X_val))\n",
        "print(\"Length of y_val\",len(y_val))\n",
        "print(\"Length of X_test\",len(X_test))\n",
        "print(\"Length of y_test\",len(y_test))"
      ],
      "metadata": {
        "colab": {
          "base_uri": "https://localhost:8080/"
        },
        "id": "A0AhPyKwOsaJ",
        "outputId": "cfe12152-7fb2-4733-bc39-886065d36ce9"
      },
      "execution_count": null,
      "outputs": [
        {
          "output_type": "stream",
          "name": "stdout",
          "text": [
            "Length of X_val 5000\n",
            "Length of y_val 5000\n",
            "Length of X_test 5000\n",
            "Length of y_test 5000\n"
          ]
        }
      ]
    },
    {
      "cell_type": "code",
      "metadata": {
        "id": "Uced0wYnOfpL"
      },
      "source": [
        "# Creating Un-labeled dataset\n",
        "X_unlabeled=X_train[10000:]\n",
        "\n",
        "# Creating Labeled dataset\n",
        "X_labeled=X_train[:10000]\n",
        "y_labeled=y_train[:10000]"
      ],
      "execution_count": null,
      "outputs": []
    },
    {
      "cell_type": "code",
      "source": [
        "print(\"Unlabeled:\")\n",
        "print(\"Length of X_unlabeled\",len(X_unlabeled))\n",
        "print(\"Labeled:\")\n",
        "print(\"Length of X_labeled\",len(X_labeled))\n",
        "print(\"Length of y_labeled\",len(y_labeled))"
      ],
      "metadata": {
        "colab": {
          "base_uri": "https://localhost:8080/"
        },
        "outputId": "bc4e988b-1a3e-49e1-a38a-e3a2d1480766",
        "id": "jap5U2lh61Ud"
      },
      "execution_count": null,
      "outputs": [
        {
          "output_type": "stream",
          "name": "stdout",
          "text": [
            "Unlabeled:\n",
            "Length of X_unlabeled 40000\n",
            "Labeled:\n",
            "Length of X_labeled 10000\n",
            "Length of y_labeled 10000\n"
          ]
        }
      ]
    },
    {
      "cell_type": "markdown",
      "metadata": {
        "id": "cDyufD5wz3to"
      },
      "source": [
        "#Preprocessing Data and creating a validation set"
      ]
    },
    {
      "cell_type": "code",
      "metadata": {
        "id": "Gu7aoc05vpHx"
      },
      "source": [
        "# X_train_0 dataset will contain images rotated by 0 degrees(No rotation)\n",
        "X_train_0=X_unlabeled.copy()\n",
        "\n",
        "# X_train_90 dataset will contain images rotated by 90 degrees\n",
        "X_train_90=np.rot90(X_unlabeled, axes=(1,2))\n",
        "\n",
        "# X_train_180 dataset will contain images rotated by 180 degrees\n",
        "X_train_180=np.rot90(X_unlabeled, 2, axes=(1,2))\n",
        "\n",
        "# X_train_270 dataset will contain images rotated by 270 degrees\n",
        "X_train_270=np.rot90(X_unlabeled, 3, axes=(1,2))"
      ],
      "execution_count": null,
      "outputs": []
    },
    {
      "cell_type": "code",
      "source": [
        "print(\"Length of X_train_0\",len(X_train_0))\n",
        "print(\"Length of X_train_0,90,180,270 (Individually):\",len(X_train_90))\n"
      ],
      "metadata": {
        "colab": {
          "base_uri": "https://localhost:8080/"
        },
        "outputId": "691c769e-f5b4-4f65-cf5b-510cea9ad589",
        "id": "ZI8zrApqCaIH"
      },
      "execution_count": null,
      "outputs": [
        {
          "output_type": "stream",
          "name": "stdout",
          "text": [
            "Length of X_train_0 40000\n",
            "Length of X_train_0,90,180,270 (Individually): 40000\n"
          ]
        }
      ]
    },
    {
      "cell_type": "code",
      "metadata": {
        "id": "HfIRJKVvPfYU"
      },
      "source": [
        "# Assigning pseudo-labels to rotated image datasets\n",
        "y_train_0=np.full((40000), 0)\n",
        "y_train_90=np.full((40000), 1)\n",
        "y_train_180=np.full((40000), 2)\n",
        "y_train_270=np.full((40000), 3)"
      ],
      "execution_count": null,
      "outputs": []
    },
    {
      "cell_type": "code",
      "metadata": {
        "id": "WMmb92uIQhJE"
      },
      "source": [
        "# Concatenating Datasets\n",
        "#Training unlabeled data for X variables\n",
        "X_train_unlabeled_full=np.concatenate((X_train_0, X_train_90, X_train_180, X_train_270), axis=0)\n",
        "#Training unlabeled data for Y variables\n",
        "y_train_unlabeled_full=np.concatenate((y_train_0, y_train_90, y_train_180, y_train_270), axis=0)"
      ],
      "execution_count": null,
      "outputs": []
    },
    {
      "cell_type": "code",
      "source": [
        "print(\"Length of X_train_unlabeled_full\",len(X_train_unlabeled_full))\n",
        "print(\"Length of y_train_unlabeled_full\",len(y_train_unlabeled_full))\n"
      ],
      "metadata": {
        "colab": {
          "base_uri": "https://localhost:8080/"
        },
        "id": "EmJ3G-9vC5PJ",
        "outputId": "eb9d1566-54fb-40c7-8f29-982401a6747a"
      },
      "execution_count": null,
      "outputs": [
        {
          "output_type": "stream",
          "name": "stdout",
          "text": [
            "Length of X_train_unlabeled_full 160000\n",
            "Length of y_train_unlabeled_full 160000\n"
          ]
        }
      ]
    },
    {
      "cell_type": "code",
      "metadata": {
        "id": "BqIRFaAgSmIi"
      },
      "source": [
        "# Function to call for fixed seed random distribution of data samples over both datasets\n",
        "# Function has input and output of two arrays a, b\n",
        "def unison_shuffled_copies(a, b):\n",
        "    assert len(a) == len(b)\n",
        "    np.random.seed(42) #set fixed seed\n",
        "    p = np.random.permutation(len(a))\n",
        "    return a[p], b[p]\n"
      ],
      "execution_count": null,
      "outputs": []
    },
    {
      "cell_type": "code",
      "metadata": {
        "id": "JC8OeE2SS-QF"
      },
      "source": [
        "# Randomly shuffling of training dataset\n",
        "X_train_unlabeled_full_shuffled, y_train_unlabeled_full_shuffled = unison_shuffled_copies(X_train_unlabeled_full, y_train_unlabeled_full)"
      ],
      "execution_count": null,
      "outputs": []
    },
    {
      "cell_type": "markdown",
      "source": [
        "##Coult turn this into a function"
      ],
      "metadata": {
        "id": "gwMTcgqLAvZa"
      }
    },
    {
      "cell_type": "code",
      "source": [
        "# Testing if arrays have been randomised in sequence of values\n",
        "result = np.array_equal(X_train_unlabeled_full_shuffled, X_train_unlabeled_full)\n",
        "\n",
        "if result == False:\n",
        "  print(\"Randomised sequence: Pass\")\n",
        "elif result == True:\n",
        "  print(\"Randomised sequence: Failed\")\n"
      ],
      "metadata": {
        "colab": {
          "base_uri": "https://localhost:8080/"
        },
        "id": "4QTMGytHosT8",
        "outputId": "c970a996-fde4-404f-80bb-913fcf021213"
      },
      "execution_count": null,
      "outputs": [
        {
          "output_type": "stream",
          "name": "stdout",
          "text": [
            "Randomised sequence: Pass\n"
          ]
        }
      ]
    },
    {
      "cell_type": "markdown",
      "source": [
        "##Validation and Test data"
      ],
      "metadata": {
        "id": "mISFM1WbVGk-"
      }
    },
    {
      "cell_type": "code",
      "metadata": {
        "id": "Mqx0PJs9UJMe"
      },
      "source": [
        "# Creating Validation and Test Dataset for Pretext Task\n",
        "#X-validation,Y-Training\n",
        "X_rot_val, X_rot_train = X_train_unlabeled_full_shuffled[:10000], X_train_unlabeled_full_shuffled[10000:]\n",
        "#Y-validation,Y-Training\n",
        "y_rot_val, y_rot_train = y_train_unlabeled_full_shuffled[:10000], y_train_unlabeled_full_shuffled[10000:]"
      ],
      "execution_count": null,
      "outputs": []
    },
    {
      "cell_type": "code",
      "metadata": {
        "id": "CG-OdGkWYbuy"
      },
      "source": [
        "# Reshaping the Inputs\n",
        "X_rot_val=X_rot_val.reshape(-1, 32, 32, 3)\n",
        "X_rot_train=X_rot_train.reshape(-1, 32, 32, 3)"
      ],
      "execution_count": null,
      "outputs": []
    },
    {
      "cell_type": "markdown",
      "source": [
        "## Not sure wtf this is"
      ],
      "metadata": {
        "id": "4LHqBnLMrdSY"
      }
    },
    {
      "cell_type": "code",
      "metadata": {
        "id": "cMviw__uUuSE"
      },
      "source": [
        "# Compiling the model\n",
        "model.compile(loss=\"sparse_categorical_crossentropy\", optimizer=\"sgd\", metrics=[\"accuracy\"])\n",
        "\n",
        "# Training the model on Downstream Task\n",
        "history=model.fit(X_labeled, y_labeled, validation_data=(X_val, y_val), epochs=10)"
      ],
      "execution_count": null,
      "outputs": []
    },
    {
      "cell_type": "markdown",
      "source": [
        "\n",
        "\n",
        "\n",
        "## Exporting the Final datasets that we will use for training\n",
        "\n",
        "Exporting the final datasets to Google Drive into the DATA folder\n",
        "\n",
        "Pretext Task\n",
        "```\n",
        "# Training & Validiation datasets for  Pretext Task\n",
        "X_rot_train, y_rot_train\n",
        "&\n",
        "X_rot_val, y_rot_val\n",
        "```\n",
        "\n",
        "Downstream Task\n",
        "```\n",
        "# Training & Validiation datasets for Downstream Task\n",
        "X_labeled, y_labeled\n",
        "&\n",
        "X_val, y_val\n",
        "```\n",
        "\n",
        "\n",
        "\n",
        "\n",
        "\n"
      ],
      "metadata": {
        "id": "wPy3sSx_QmFf"
      }
    },
    {
      "cell_type": "code",
      "source": [
        "## Save Pretext Task\n",
        "\n",
        "#File path for Google Drive\n",
        "#/content/drive/MyDrive/A Goldsmiths /A Final Project/DEV/FileName\n",
        "\n",
        "#Missing\n",
        "# pretext model is expecting x_rot_train but the new version is X_train_unlabeled_full_shuffled\n",
        "# used to be X_rot_train y_rot_train but now its  X_train_unlabeled_full_shuffled\n",
        "# 1. Done make a new array and assign it to X_train_unlabeled_full_shuffled, new name X/Y_rot_task and\n",
        "# 2. Done change the name at the model too\n",
        "# 3. change the name of X_val & y_val\n",
        "# 4. delete contents of DEV folder on Drive anad run build_dataset\n",
        "\n",
        "\n",
        "#UnlabeledTrain\n",
        "np.save('/content/drive/MyDrive/A Goldsmiths /A Final Project/DEV/Data/X_rot_train' , X_rot_train)\n",
        "np.save('/content/drive/MyDrive/A Goldsmiths /A Final Project/DEV/Data/y_rot_train', y_rot_train)\n",
        "\n",
        "#UnlabeledValidation\n",
        "np.save('/content/drive/MyDrive/A Goldsmiths /A Final Project/DEV/Data/X_rot_val' , X_rot_val)\n",
        "np.save('/content/drive/MyDrive/A Goldsmiths /A Final Project/DEV/Data/y_rot_val', y_rot_val)\n",
        "\n",
        "## Save Downstream Task\n",
        "#labeled\n",
        "np.save('/content/drive/MyDrive/A Goldsmiths /A Final Project/DEV/Data/X_labeled' , X_labeled)\n",
        "np.save('/content/drive/MyDrive/A Goldsmiths /A Final Project/DEV/Data/y_labeled', y_labeled)\n",
        "\n",
        "#labeledValidation\n",
        "np.save('/content/drive/MyDrive/A Goldsmiths /A Final Project/DEV/Data/X_val' , X_val)\n",
        "np.save('/content/drive/MyDrive/A Goldsmiths /A Final Project/DEV/Data/y_val', y_val)"
      ],
      "metadata": {
        "id": "7SD-v0NV1HeA"
      },
      "execution_count": null,
      "outputs": []
    },
    {
      "cell_type": "markdown",
      "source": [
        "#How to import saved models?"
      ],
      "metadata": {
        "id": "dGTY6Y7khZBI"
      }
    },
    {
      "cell_type": "code",
      "source": [
        "## Open The Array Imported From Drive\n",
        "\n",
        "X_testImported = np.load('/content/drive/MyDrive/A Goldsmiths /A Final Project/DEV/X_test.npy', allow_pickle=True)\n",
        "\n",
        "\n",
        "#Print imported array\n",
        "#print(X_testImported)"
      ],
      "metadata": {
        "id": "6Tng-xKFVyuT"
      },
      "execution_count": null,
      "outputs": []
    },
    {
      "cell_type": "code",
      "source": [
        "ImportedModel = tf.keras.models.load_model('/content/drive/MyDrive/A Goldsmiths /A Final Project/DEV/supervised.h5')\n"
      ],
      "metadata": {
        "id": "F0THLI2tO4Z6"
      },
      "execution_count": null,
      "outputs": []
    },
    {
      "cell_type": "code",
      "source": [
        "!pip install tensorflow_addons\n"
      ],
      "metadata": {
        "colab": {
          "base_uri": "https://localhost:8080/"
        },
        "id": "YwuwZKbcjBil",
        "outputId": "2ebf6329-cdf2-496c-e10c-da96613df388"
      },
      "execution_count": null,
      "outputs": [
        {
          "output_type": "stream",
          "name": "stdout",
          "text": [
            "Collecting tensorflow_addons\n",
            "  Downloading tensorflow_addons-0.21.0-cp310-cp310-manylinux_2_17_x86_64.manylinux2014_x86_64.whl (612 kB)\n",
            "\u001b[?25l     \u001b[90m━━━━━━━━━━━━━━━━━━━━━━━━━━━━━━━━━━━━━━━━\u001b[0m \u001b[32m0.0/612.1 kB\u001b[0m \u001b[31m?\u001b[0m eta \u001b[36m-:--:--\u001b[0m\r\u001b[2K     \u001b[91m━━━━━━━━━━━━━━━━\u001b[0m\u001b[90m╺\u001b[0m\u001b[90m━━━━━━━━━━━━━━━━━━━━━━\u001b[0m \u001b[32m256.0/612.1 kB\u001b[0m \u001b[31m7.8 MB/s\u001b[0m eta \u001b[36m0:00:01\u001b[0m\r\u001b[2K     \u001b[90m━━━━━━━━━━━━━━━━━━━━━━━━━━━━━━━━━━━━━━\u001b[0m \u001b[32m612.1/612.1 kB\u001b[0m \u001b[31m10.0 MB/s\u001b[0m eta \u001b[36m0:00:00\u001b[0m\n",
            "\u001b[?25hRequirement already satisfied: packaging in /usr/local/lib/python3.10/dist-packages (from tensorflow_addons) (23.1)\n",
            "Collecting typeguard<3.0.0,>=2.7 (from tensorflow_addons)\n",
            "  Downloading typeguard-2.13.3-py3-none-any.whl (17 kB)\n",
            "Installing collected packages: typeguard, tensorflow_addons\n",
            "Successfully installed tensorflow_addons-0.21.0 typeguard-2.13.3\n"
          ]
        }
      ]
    },
    {
      "cell_type": "markdown",
      "source": [
        "# Rewritten code"
      ],
      "metadata": {
        "id": "aj1gm2bWs2MW"
      }
    },
    {
      "cell_type": "code",
      "source": [
        "import numpy as np\n",
        "import tensorflow as tf\n",
        "import tensorflow_addons as tfa\n",
        "from tensorflow.keras.datasets import cifar10\n",
        "\n",
        "from skimage.transform import rotate\n"
      ],
      "metadata": {
        "colab": {
          "base_uri": "https://localhost:8080/"
        },
        "id": "Fr4IzwvikSfc",
        "outputId": "940677e9-67fa-451c-ede4-769a0d814993"
      },
      "execution_count": null,
      "outputs": [
        {
          "output_type": "stream",
          "name": "stderr",
          "text": [
            "/usr/local/lib/python3.10/dist-packages/tensorflow_addons/utils/tfa_eol_msg.py:23: UserWarning: \n",
            "\n",
            "TensorFlow Addons (TFA) has ended development and introduction of new features.\n",
            "TFA has entered a minimal maintenance and release mode until a planned end of life in May 2024.\n",
            "Please modify downstream libraries to take dependencies from other repositories in our TensorFlow community (e.g. Keras, Keras-CV, and Keras-NLP). \n",
            "\n",
            "For more information see: https://github.com/tensorflow/addons/issues/2807 \n",
            "\n",
            "  warnings.warn(\n"
          ]
        }
      ]
    },
    {
      "cell_type": "code",
      "source": [
        "import numpy as np\n",
        "from tensorflow.keras.datasets import cifar10\n",
        "\n",
        "# Load CIFAR10 data\n",
        "(x_train, y_train), (x_test, y_test) = cifar10.load_data()\n",
        "\n",
        "# Normalize pixel values between 0 and 1\n",
        "x_train, x_test = x_train / 255.0, x_test / 255.0\n",
        "\n",
        "# Take 60% of the dataset\n",
        "subset_size = int(0.6 * len(x_train))\n",
        "x_train = x_train[:subset_size]\n",
        "\n",
        "# Rotation\n",
        "X_train_0 = x_train.copy()\n",
        "X_train_90 = np.rot90(x_train, axes=(1,2))\n",
        "X_train_180 = np.rot90(x_train, 2, axes=(1,2))\n",
        "X_train_270 = np.rot90(x_train, 3, axes=(1,2))\n",
        "\n",
        "# Label assignment\n",
        "y_train_0 = np.full((len(x_train),1), 0)\n",
        "y_train_90 = np.full((len(x_train),1), 1)\n",
        "y_train_180 = np.full((len(x_train),1), 2)\n",
        "y_train_270 = np.full((len(x_train),1), 3)\n",
        "\n",
        "# Concatenation\n",
        "X_augmented = np.concatenate([X_train_0, X_train_90, X_train_180, X_train_270], axis=0)\n",
        "y_augmented = np.concatenate([y_train_0, y_train_90, y_train_180, y_train_270], axis=0)\n",
        "\n",
        "# Shuffle\n",
        "indices = np.arange(len(X_augmented))\n",
        "np.random.shuffle(indices)\n",
        "X_augmented = X_augmented[indices]\n",
        "y_augmented = y_augmented[indices]\n"
      ],
      "metadata": {
        "id": "Ev1s2ySumK_i"
      },
      "execution_count": null,
      "outputs": []
    },
    {
      "cell_type": "code",
      "source": [
        " import matplotlib.pyplot as plt\n",
        "\n",
        "# Number of images to display\n",
        "n_images = 10\n",
        "\n",
        "# Create a figure to display the images\n",
        "fig, axes = plt.subplots(2, n_images//2, figsize=(20, 4))\n",
        "\n",
        "# Define labels mapping\n",
        "rotation_mapping = {0: '0 degrees', 1: '90 degrees', 2: '180 degrees', 3: '270 degrees'}\n",
        "\n",
        "# Display the first few images from the dataset\n",
        "for i, ax in enumerate(axes.flatten()):\n",
        "    # Plot image on axis\n",
        "    ax.imshow(X_augmented[i])\n",
        "    ax.set_title(f'Rotation: {rotation_mapping[y_augmented[i][0]]}', fontsize=10)\n",
        "    ax.axis('off')\n",
        "\n",
        "plt.tight_layout()\n",
        "plt.show()\n",
        "\n"
      ],
      "metadata": {
        "colab": {
          "base_uri": "https://localhost:8080/",
          "height": 427
        },
        "id": "trofqRURss28",
        "outputId": "5b068f17-1a31-4137-8d81-ae1f1f60b256"
      },
      "execution_count": null,
      "outputs": [
        {
          "output_type": "display_data",
          "data": {
            "text/plain": [
              "<Figure size 2000x400 with 10 Axes>"
            ],
            "image/png": "[encoded data removed]"
          },
          "metadata": {}
        }
      ]
    }
  ]
}