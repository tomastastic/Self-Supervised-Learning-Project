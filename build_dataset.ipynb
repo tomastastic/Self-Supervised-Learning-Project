{
  "nbformat": 4,
  "nbformat_minor": 0,
  "metadata": {
    "colab": {
      "provenance": [],
      "authorship_tag": "ABX9TyPF+wRkiBUXXY2ENr7+M4cK",
      "include_colab_link": true
    },
    "kernelspec": {
      "name": "python3",
      "display_name": "Python 3"
    },
    "language_info": {
      "name": "python"
    }
  },
  "cells": [
    {
      "cell_type": "markdown",
      "metadata": {
        "id": "view-in-github",
        "colab_type": "text"
      },
      "source": [
        "<a href=\"https://colab.research.google.com/github/tomastastic/FinalProject/blob/main/build_dataset.ipynb\" target=\"_parent\"><img src=\"https://colab.research.google.com/assets/colab-badge.svg\" alt=\"Open In Colab\"/></a>"
      ]
    },
    {
      "cell_type": "markdown",
      "source": [
        "# Data according to H.M. Andrew Ng\n",
        "\n",
        "\n",
        "we should have a reproducible script to create the train/dev/test split\n",
        "\n",
        "any randomness involved uses a fixed seed\n"
      ],
      "metadata": {
        "id": "W8y8VrQHisLe"
      }
    },
    {
      "cell_type": "markdown",
      "source": [
        "#Source:\n",
        "https://deeplearninguniversity.com/implementing-image-rotation-pretext-training-for-self-supervised-learning-using-keras/"
      ],
      "metadata": {
        "id": "R3cFaCXdNmGm"
      }
    },
    {
      "cell_type": "markdown",
      "metadata": {
        "id": "lDgGN_5qzrIP"
      },
      "source": [
        "# Importing libraries"
      ]
    },
    {
      "cell_type": "code",
      "metadata": {
        "id": "VUZ9Zz-djo45",
        "colab": {
          "base_uri": "https://localhost:8080/"
        },
        "outputId": "03a3042d-0b4d-41f0-870f-70368f0c863e"
      },
      "source": [
        "# Importing Libraries\n",
        "import numpy as np\n",
        "import pandas as pd\n",
        "import matplotlib\n",
        "import matplotlib.pyplot as plt\n",
        "import tensorflow as tf\n",
        "from tensorflow import keras\n",
        "from google.colab import drive\n",
        "\n",
        "#Mount drive\n",
        "drive.mount('/content/drive', force_remount=True)\n",
        "\n",
        "# example of loading the cifar10 dataset\n",
        "from matplotlib import pyplot\n",
        "from keras.datasets import cifar10"
      ],
      "execution_count": 1,
      "outputs": [
        {
          "output_type": "stream",
          "name": "stdout",
          "text": [
            "Mounted at /content/drive\n"
          ]
        }
      ]
    },
    {
      "cell_type": "markdown",
      "metadata": {
        "id": "o27G_rkKzyDY"
      },
      "source": [
        "# Loading Data"
      ]
    },
    {
      "cell_type": "code",
      "source": [
        "# load dataset and perform train/test split\n",
        "(X_train, y_train), (X_test, y_test) = cifar10.load_data()"
      ],
      "metadata": {
        "id": "hULBwDAMxjz9",
        "colab": {
          "base_uri": "https://localhost:8080/"
        },
        "outputId": "49322bbe-9aab-46b8-b983-3e9e91dd818c"
      },
      "execution_count": 2,
      "outputs": [
        {
          "output_type": "stream",
          "name": "stdout",
          "text": [
            "Downloading data from https://www.cs.toronto.edu/~kriz/cifar-10-python.tar.gz\n",
            "170498071/170498071 [==============================] - 2s 0us/step\n"
          ]
        }
      ]
    },
    {
      "cell_type": "code",
      "source": [
        "print(\"Length of X_train\",len(X_train))\n",
        "print(\"Length of y_train\",len(y_train))\n",
        "print(\"Length of X_test\",len(X_test))\n",
        "print(\"Length of y_test\",len(y_test))\n"
      ],
      "metadata": {
        "colab": {
          "base_uri": "https://localhost:8080/"
        },
        "id": "E6_S_boK1c3B",
        "outputId": "6d0b6fb3-367d-40d2-bf86-fc6b526f4ca4"
      },
      "execution_count": 3,
      "outputs": [
        {
          "output_type": "stream",
          "name": "stdout",
          "text": [
            "Length of X_train 50000\n",
            "Length of y_train 50000\n",
            "Length of X_test 10000\n",
            "Length of y_test 10000\n"
          ]
        }
      ]
    },
    {
      "cell_type": "code",
      "metadata": {
        "id": "y72SNo87O6l8"
      },
      "source": [
        "# Normalizing the Dataset\n",
        "X_train=X_train/255\n",
        "X_test=X_test/255"
      ],
      "execution_count": 4,
      "outputs": []
    },
    {
      "cell_type": "code",
      "metadata": {
        "id": "_pwZ02bUN46z"
      },
      "source": [
        "# Creating Validation and Test set from X,Y_test\n",
        "X_val=X_test[:5000]\n",
        "y_val=y_test[:5000]\n",
        "\n",
        "X_test=X_test[5000:]\n",
        "y_test=y_test[5000:]"
      ],
      "execution_count": 5,
      "outputs": []
    },
    {
      "cell_type": "code",
      "source": [
        "print(\"Length of X_val\",len(X_val))\n",
        "print(\"Length of y_val\",len(y_val))\n",
        "print(\"Length of X_test\",len(X_test))\n",
        "print(\"Length of y_test\",len(y_test))"
      ],
      "metadata": {
        "colab": {
          "base_uri": "https://localhost:8080/"
        },
        "id": "A0AhPyKwOsaJ",
        "outputId": "2544f680-9f7a-4cee-840a-329e76fe084f"
      },
      "execution_count": 6,
      "outputs": [
        {
          "output_type": "stream",
          "name": "stdout",
          "text": [
            "Length of X_val 5000\n",
            "Length of y_val 5000\n",
            "Length of X_test 5000\n",
            "Length of y_test 5000\n"
          ]
        }
      ]
    },
    {
      "cell_type": "code",
      "metadata": {
        "id": "Uced0wYnOfpL"
      },
      "source": [
        "# Creating Un-labeled dataset\n",
        "X_unlabeled=X_train[10000:]\n",
        "\n",
        "# Creating Labeled dataset\n",
        "X_labeled=X_train[:10000]\n",
        "y_labeled=y_train[:10000]"
      ],
      "execution_count": 7,
      "outputs": []
    },
    {
      "cell_type": "code",
      "source": [
        "print(\"Unlabeled:\")\n",
        "print(\"Length of X_unlabeled\",len(X_unlabeled))\n",
        "print(\"Labeled:\")\n",
        "print(\"Length of X_labeled\",len(X_labeled))\n",
        "print(\"Length of y_labeled\",len(y_labeled))"
      ],
      "metadata": {
        "colab": {
          "base_uri": "https://localhost:8080/"
        },
        "outputId": "fc1476f8-d529-47a4-f6a9-0841b96ec32a",
        "id": "jap5U2lh61Ud"
      },
      "execution_count": 8,
      "outputs": [
        {
          "output_type": "stream",
          "name": "stdout",
          "text": [
            "Unlabeled:\n",
            "Length of X_unlabeled 40000\n",
            "Labeled:\n",
            "Length of X_labeled 10000\n",
            "Length of y_labeled 10000\n"
          ]
        }
      ]
    },
    {
      "cell_type": "markdown",
      "metadata": {
        "id": "cDyufD5wz3to"
      },
      "source": [
        "#Preprocessing Data and creating a validation set"
      ]
    },
    {
      "cell_type": "code",
      "metadata": {
        "id": "Gu7aoc05vpHx"
      },
      "source": [
        "# X_train_0 dataset will contain images rotated by 0 degrees(No rotation)\n",
        "X_train_0=X_unlabeled.copy()\n",
        "\n",
        "# X_train_90 dataset will contain images rotated by 90 degrees\n",
        "X_train_90=np.rot90(X_unlabeled, axes=(1,2))\n",
        "\n",
        "# X_train_180 dataset will contain images rotated by 180 degrees\n",
        "X_train_180=np.rot90(X_unlabeled, 2, axes=(1,2))\n",
        "\n",
        "# X_train_270 dataset will contain images rotated by 270 degrees\n",
        "X_train_270=np.rot90(X_unlabeled, 3, axes=(1,2))"
      ],
      "execution_count": 9,
      "outputs": []
    },
    {
      "cell_type": "code",
      "source": [
        "print(\"Length of X_train_0\",len(X_train_0))\n",
        "print(\"Length of X_train_0,90,180,270 (Individually):\",len(X_train_90))\n"
      ],
      "metadata": {
        "colab": {
          "base_uri": "https://localhost:8080/"
        },
        "outputId": "3aaf0fe2-1d9d-4842-f966-04757f9a86cb",
        "id": "ZI8zrApqCaIH"
      },
      "execution_count": 10,
      "outputs": [
        {
          "output_type": "stream",
          "name": "stdout",
          "text": [
            "Length of X_train_0 40000\n",
            "Length of X_train_0,90,180,270 (Individually): 40000\n"
          ]
        }
      ]
    },
    {
      "cell_type": "code",
      "metadata": {
        "id": "HfIRJKVvPfYU"
      },
      "source": [
        "# Assigning pseudo-labels to rotated image datasets\n",
        "y_train_0=np.full((40000), 0)\n",
        "y_train_90=np.full((40000), 1)\n",
        "y_train_180=np.full((40000), 2)\n",
        "y_train_270=np.full((40000), 3)"
      ],
      "execution_count": 11,
      "outputs": []
    },
    {
      "cell_type": "code",
      "metadata": {
        "id": "WMmb92uIQhJE"
      },
      "source": [
        "# Concatenating Datasets\n",
        "X_train_unlabeled_full=np.concatenate((X_train_0, X_train_90, X_train_180, X_train_270), axis=0)\n",
        "y_train_unlabeled_full=np.concatenate((y_train_0, y_train_90, y_train_180, y_train_270), axis=0)"
      ],
      "execution_count": 12,
      "outputs": []
    },
    {
      "cell_type": "code",
      "source": [
        "print(\"Length of X_train_unlabeled_full\",len(X_train_unlabeled_full))\n",
        "print(\"Length of y_train_unlabeled_full\",len(y_train_unlabeled_full))\n"
      ],
      "metadata": {
        "colab": {
          "base_uri": "https://localhost:8080/"
        },
        "id": "EmJ3G-9vC5PJ",
        "outputId": "8a3dfc58-8406-41f3-aa85-64d9e5e94d56"
      },
      "execution_count": 13,
      "outputs": [
        {
          "output_type": "stream",
          "name": "stdout",
          "text": [
            "Length of X_train_unlabeled_full 160000\n",
            "Length of y_train_unlabeled_full 160000\n"
          ]
        }
      ]
    },
    {
      "cell_type": "markdown",
      "source": [
        "##These 3 must go, in favour of Andrew Ng standarized data methods:\n",
        " https://cs230.stanford.edu/blog/split/"
      ],
      "metadata": {
        "id": "9wxY1tf7EDZX"
      }
    },
    {
      "cell_type": "code",
      "metadata": {
        "id": "BqIRFaAgSmIi"
      },
      "source": [
        "# The function will distribute the samples uniformly over dataset\n",
        "def unison_shuffled_copies(a, b):\n",
        "    assert len(a) == len(b)\n",
        "    np.random.seed(42)\n",
        "    p = np.random.permutation(len(a))\n",
        "    return a[p], b[p]\n"
      ],
      "execution_count": 14,
      "outputs": []
    },
    {
      "cell_type": "code",
      "metadata": {
        "id": "JC8OeE2SS-QF"
      },
      "source": [
        "# Randomly shuffling the concatenated dataset\n",
        "X_train_unlabeled_full_shuffled, y_train_unlabeled_full_shuffled = unison_shuffled_copies(X_train_unlabeled_full, y_train_unlabeled_full)"
      ],
      "execution_count": 15,
      "outputs": []
    },
    {
      "cell_type": "code",
      "source": [
        "# Testing if arrays have been randomised in sequence of values\n",
        "result = np.array_equal(X_train_unlabeled_full_shuffled, X_train_unlabeled_full)\n",
        "\n",
        "\n",
        "if result == False:\n",
        "  print(\"Randomised sequence: Pass\")\n",
        "elif result == True:\n",
        "  print(\"Randomised sequence: Failed\")\n"
      ],
      "metadata": {
        "colab": {
          "base_uri": "https://localhost:8080/"
        },
        "id": "4QTMGytHosT8",
        "outputId": "fc1200a4-9eeb-4dae-b668-6a283d2ec94d"
      },
      "execution_count": 16,
      "outputs": [
        {
          "output_type": "stream",
          "name": "stdout",
          "text": [
            "Randomised sequence: Pass\n"
          ]
        }
      ]
    },
    {
      "cell_type": "code",
      "source": [
        "#A\n",
        "## Save array\n",
        "\n",
        "#File path\n",
        "#/content/drive/MyDrive/A Goldsmiths /A Final Project/DEV/X_test.np\n",
        "\n",
        "np.save('/content/drive/MyDrive/A Goldsmiths /A Final Project/DEV/X_test', X_test)"
      ],
      "metadata": {
        "id": "Xy5xB99SVdOh"
      },
      "execution_count": 17,
      "outputs": []
    },
    {
      "cell_type": "markdown",
      "source": [
        "##DATA BITS START"
      ],
      "metadata": {
        "id": "mISFM1WbVGk-"
      }
    },
    {
      "cell_type": "code",
      "metadata": {
        "id": "Mqx0PJs9UJMe"
      },
      "source": [
        "# Creating Validation and Test Dataset for Pretext Task\n",
        "#X-validation,Y-Training\n",
        "X_rot_val, X_rot_train = X_train_unlabeled_full_shuffled[:10000], X_train_unlabeled_full_shuffled[10000:]\n",
        "#Y-validation,Y-Training\n",
        "y_rot_val, y_rot_train = y_train_unlabeled_full_shuffled[:10000], y_train_unlabeled_full_shuffled[10000:]"
      ],
      "execution_count": 22,
      "outputs": []
    },
    {
      "cell_type": "code",
      "metadata": {
        "id": "CG-OdGkWYbuy"
      },
      "source": [
        "# Reshaping the Inputs\n",
        "X_rot_val=X_rot_val.reshape(-1, 32, 32, 3)\n",
        "X_rot_train=X_rot_train.reshape(-1, 32, 32, 3)"
      ],
      "execution_count": 23,
      "outputs": []
    },
    {
      "cell_type": "markdown",
      "source": [
        "## Saving to Drive"
      ],
      "metadata": {
        "id": "4LHqBnLMrdSY"
      }
    },
    {
      "cell_type": "code",
      "metadata": {
        "colab": {
          "base_uri": "https://localhost:8080/",
          "height": 310
        },
        "outputId": "4b9a220e-7e9f-4f1e-9e72-70273bed96cd",
        "id": "cMviw__uUuSE"
      },
      "source": [
        "# Compiling the model\n",
        "model.compile(loss=\"sparse_categorical_crossentropy\", optimizer=\"sgd\", metrics=[\"accuracy\"])\n",
        "\n",
        "# Training the model on Downstream Task\n",
        "history=model.fit(X_labeled, y_labeled, validation_data=(X_val, y_val), epochs=10)"
      ],
      "execution_count": 18,
      "outputs": [
        {
          "output_type": "error",
          "ename": "NameError",
          "evalue": "ignored",
          "traceback": [
            "\u001b[0;31m---------------------------------------------------------------------------\u001b[0m",
            "\u001b[0;31mNameError\u001b[0m                                 Traceback (most recent call last)",
            "\u001b[0;32m<ipython-input-18-62167c86775e>\u001b[0m in \u001b[0;36m<cell line: 2>\u001b[0;34m()\u001b[0m\n\u001b[1;32m      1\u001b[0m \u001b[0;31m# Compiling the model\u001b[0m\u001b[0;34m\u001b[0m\u001b[0;34m\u001b[0m\u001b[0m\n\u001b[0;32m----> 2\u001b[0;31m \u001b[0mmodel\u001b[0m\u001b[0;34m.\u001b[0m\u001b[0mcompile\u001b[0m\u001b[0;34m(\u001b[0m\u001b[0mloss\u001b[0m\u001b[0;34m=\u001b[0m\u001b[0;34m\"sparse_categorical_crossentropy\"\u001b[0m\u001b[0;34m,\u001b[0m \u001b[0moptimizer\u001b[0m\u001b[0;34m=\u001b[0m\u001b[0;34m\"sgd\"\u001b[0m\u001b[0;34m,\u001b[0m \u001b[0mmetrics\u001b[0m\u001b[0;34m=\u001b[0m\u001b[0;34m[\u001b[0m\u001b[0;34m\"accuracy\"\u001b[0m\u001b[0;34m]\u001b[0m\u001b[0;34m)\u001b[0m\u001b[0;34m\u001b[0m\u001b[0;34m\u001b[0m\u001b[0m\n\u001b[0m\u001b[1;32m      3\u001b[0m \u001b[0;34m\u001b[0m\u001b[0m\n\u001b[1;32m      4\u001b[0m \u001b[0;31m# Training the model on Downstream Task\u001b[0m\u001b[0;34m\u001b[0m\u001b[0;34m\u001b[0m\u001b[0m\n\u001b[1;32m      5\u001b[0m \u001b[0mhistory\u001b[0m\u001b[0;34m=\u001b[0m\u001b[0mmodel\u001b[0m\u001b[0;34m.\u001b[0m\u001b[0mfit\u001b[0m\u001b[0;34m(\u001b[0m\u001b[0mX_labeled\u001b[0m\u001b[0;34m,\u001b[0m \u001b[0my_labeled\u001b[0m\u001b[0;34m,\u001b[0m \u001b[0mvalidation_data\u001b[0m\u001b[0;34m=\u001b[0m\u001b[0;34m(\u001b[0m\u001b[0mX_val\u001b[0m\u001b[0;34m,\u001b[0m \u001b[0my_val\u001b[0m\u001b[0;34m)\u001b[0m\u001b[0;34m,\u001b[0m \u001b[0mepochs\u001b[0m\u001b[0;34m=\u001b[0m\u001b[0;36m10\u001b[0m\u001b[0;34m)\u001b[0m\u001b[0;34m\u001b[0m\u001b[0;34m\u001b[0m\u001b[0m\n",
            "\u001b[0;31mNameError\u001b[0m: name 'model' is not defined"
          ]
        }
      ]
    },
    {
      "cell_type": "code",
      "metadata": {
        "id": "Jva3tEEIUqfF"
      },
      "source": [
        "# Compiling the model\n",
        "model.compile(loss=\"sparse_categorical_crossentropy\", optimizer=\"sgd\", metrics=[\"accuracy\"])\n",
        "\n",
        "# Training the model on Downstream Task\n",
        "history=model.fit(X_labeled, y_labeled, validation_data=(X_val, y_val), epochs=10)"
      ],
      "execution_count": null,
      "outputs": []
    },
    {
      "cell_type": "code",
      "metadata": {
        "id": "GwJp4HlzUixa"
      },
      "source": [
        "# Compiling the model\n",
        "model.compile(loss=\"sparse_categorical_crossentropy\", optimizer=\"sgd\", metrics=[\"accuracy\"])\n",
        "\n",
        "# Training the model on Downstream Task\n",
        "history=model.fit(X_labeled, y_labeled, validation_data=(X_val, y_val), epochs=10)"
      ],
      "execution_count": null,
      "outputs": []
    },
    {
      "cell_type": "code",
      "metadata": {
        "id": "2iEq5WJXsGWZ"
      },
      "source": [
        "# Compiling the model\n",
        "model.compile(loss=\"sparse_categorical_crossentropy\", optimizer=\"sgd\", metrics=[\"accuracy\"])\n",
        "\n",
        "# Training the model on Downstream Task\n",
        "history=model.fit(X_labeled, y_labeled, validation_data=(X_val, y_val), epochs=10)"
      ],
      "execution_count": null,
      "outputs": []
    },
    {
      "cell_type": "markdown",
      "source": [
        "\n",
        "\n",
        "\n",
        "## The Datasets we need downloaded\n",
        "\n",
        "A\n",
        "```\n",
        "# Training the model on Pretext Task\n",
        "X_rot_train, y_rot_train\n",
        "&\n",
        "X_rot_val, y_rot_val\n",
        "```\n",
        "\n",
        "\n",
        "B\n",
        "```\n",
        "# Training the model on Downstream Task\n",
        "X_labeled, y_labeled\n",
        "&\n",
        "X_val, y_val\n",
        "```\n",
        "\n",
        "\n",
        "\n",
        "\n",
        "\n"
      ],
      "metadata": {
        "id": "wPy3sSx_QmFf"
      }
    },
    {
      "cell_type": "code",
      "source": [
        "## Save arrays A\n",
        "\n",
        "#File path\n",
        "#/content/drive/MyDrive/A Goldsmiths /A Final Project/DEV/X_test.np\n",
        "\n",
        "np.save('/content/drive/MyDrive/A Goldsmiths /A Final Project/DEV/Data' , X_train)\n",
        "np.save('/content/drive/MyDrive/A Goldsmiths /A Final Project/DEV/Data', y_train)\n",
        "\n",
        "\n",
        "np.save('/content/drive/MyDrive/A Goldsmiths /A Final Project/DEV/Data' , X_rot_val)\n",
        "np.save('/content/drive/MyDrive/A Goldsmiths /A Final Project/DEV/Data', y_rot_val)\n",
        "\n",
        "## Save arrays B\n",
        "\n",
        "np.save('/content/drive/MyDrive/A Goldsmiths /A Final Project/DEV/Data' , X_labeled)\n",
        "np.save('/content/drive/MyDrive/A Goldsmiths /A Final Project/DEV/Data', y_labeled)\n",
        "\n",
        "\n",
        "np.save('/content/drive/MyDrive/A Goldsmiths /A Final Project/DEV/Data' , X_val)\n",
        "np.save('/content/drive/MyDrive/A Goldsmiths /A Final Project/DEV/Data', y_val)"
      ],
      "metadata": {
        "id": "7SD-v0NV1HeA"
      },
      "execution_count": 24,
      "outputs": []
    },
    {
      "cell_type": "code",
      "source": [
        "## Open The Array Imported From Drive\n",
        "\n",
        "X_testImported = np.load('/content/drive/MyDrive/A Goldsmiths /A Final Project/DEV/X_test.npy', allow_pickle=True)\n",
        "\n",
        "\n",
        "#Print imported array\n",
        "#print(X_testImported)"
      ],
      "metadata": {
        "id": "6Tng-xKFVyuT"
      },
      "execution_count": null,
      "outputs": []
    },
    {
      "cell_type": "code",
      "source": [
        "# Testing if saved and imported arrays are consistent\n",
        "result = np.array_equal(X_testImported, X_test)\n",
        "\n",
        "\n",
        "if result == False:\n",
        "  print(\"consistent: Failed \")\n",
        "elif result == True:\n",
        "  print(\"consistent: Pass \")\n"
      ],
      "metadata": {
        "id": "PPp_lfSVhei4"
      },
      "execution_count": null,
      "outputs": []
    },
    {
      "cell_type": "markdown",
      "source": [
        "#How to import saved models?"
      ],
      "metadata": {
        "id": "dGTY6Y7khZBI"
      }
    },
    {
      "cell_type": "code",
      "source": [
        "ImportedModel = tf.keras.models.load_model('/content/drive/MyDrive/A Goldsmiths /A Final Project/DEV/supervised.h5')\n"
      ],
      "metadata": {
        "id": "F0THLI2tO4Z6"
      },
      "execution_count": null,
      "outputs": []
    }
  ]
}