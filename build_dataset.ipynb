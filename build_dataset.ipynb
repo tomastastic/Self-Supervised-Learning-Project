{
  "nbformat": 4,
  "nbformat_minor": 0,
  "metadata": {
    "colab": {
      "provenance": [],
      "authorship_tag": "ABX9TyN0ho3jZ8uqVm+SDNdQJk4Z",
      "include_colab_link": true
    },
    "kernelspec": {
      "name": "python3",
      "display_name": "Python 3"
    },
    "language_info": {
      "name": "python"
    }
  },
  "cells": [
    {
      "cell_type": "markdown",
      "metadata": {
        "id": "view-in-github",
        "colab_type": "text"
      },
      "source": [
        "<a href=\"https://colab.research.google.com/github/tomastastic/FinalProject/blob/main/build_dataset.ipynb\" target=\"_parent\"><img src=\"https://colab.research.google.com/assets/colab-badge.svg\" alt=\"Open In Colab\"/></a>"
      ]
    },
    {
      "cell_type": "markdown",
      "source": [
        "# Building the Dataset\n",
        "\n",
        "from H.M. Andrew Ng\n",
        "-Standardize the dataset for reproducibility.\n",
        "-We should have a reproducible script to create the train/dev/test split\n",
        "-any randomness involved uses a fixed seed\n"
      ],
      "metadata": {
        "id": "W8y8VrQHisLe"
      }
    },
    {
      "cell_type": "markdown",
      "source": [
        "##Source:\n",
        "https://cs230.stanford.edu/blog/split/\n",
        "\n",
        "https://deeplearninguniversity.com/implementing-image-rotation-pretext-training-for-self-supervised-learning-using-keras/"
      ],
      "metadata": {
        "id": "R3cFaCXdNmGm"
      }
    },
    {
      "cell_type": "markdown",
      "metadata": {
        "id": "lDgGN_5qzrIP"
      },
      "source": [
        "# Importing libraries"
      ]
    },
    {
      "cell_type": "code",
      "metadata": {
        "id": "VUZ9Zz-djo45",
        "colab": {
          "base_uri": "https://localhost:8080/"
        },
        "outputId": "aba204a3-bd11-4873-b8c2-e65519cae3b2"
      },
      "source": [
        "# Importing Libraries\n",
        "import numpy as np\n",
        "import pandas as pd\n",
        "import matplotlib\n",
        "import matplotlib.pyplot as plt\n",
        "import tensorflow as tf\n",
        "from tensorflow import keras\n",
        "from keras.datasets import cifar10\n",
        "\n",
        "#Mount Google drive\n",
        "from google.colab import drive\n",
        "drive.mount('/content/drive', force_remount=True)\n",
        "\n"
      ],
      "execution_count": 2,
      "outputs": [
        {
          "output_type": "stream",
          "name": "stdout",
          "text": [
            "Mounted at /content/drive\n"
          ]
        }
      ]
    },
    {
      "cell_type": "markdown",
      "metadata": {
        "id": "o27G_rkKzyDY"
      },
      "source": [
        "# Loading Data"
      ]
    },
    {
      "cell_type": "code",
      "source": [
        "# load dataset and perform train/test split\n",
        "(X_train, y_train), (X_test, y_test) = cifar10.load_data()"
      ],
      "metadata": {
        "id": "hULBwDAMxjz9"
      },
      "execution_count": null,
      "outputs": []
    },
    {
      "cell_type": "code",
      "source": [
        "print(\"Length of X_train\",len(X_train))\n",
        "print(\"Length of y_train\",len(y_train))\n",
        "print(\"Length of X_test\",len(X_test))\n",
        "print(\"Length of y_test\",len(y_test))\n"
      ],
      "metadata": {
        "colab": {
          "base_uri": "https://localhost:8080/"
        },
        "id": "E6_S_boK1c3B",
        "outputId": "e7223cdb-a7bb-438f-b4b5-4b8b3dbee28c"
      },
      "execution_count": null,
      "outputs": [
        {
          "output_type": "stream",
          "name": "stdout",
          "text": [
            "Length of X_train 50000\n",
            "Length of y_train 50000\n",
            "Length of X_test 10000\n",
            "Length of y_test 10000\n"
          ]
        }
      ]
    },
    {
      "cell_type": "code",
      "metadata": {
        "id": "y72SNo87O6l8"
      },
      "source": [
        "# Normalizing the Dataset\n",
        "X_train=X_train/255\n",
        "X_test=X_test/255"
      ],
      "execution_count": null,
      "outputs": []
    },
    {
      "cell_type": "code",
      "metadata": {
        "id": "_pwZ02bUN46z"
      },
      "source": [
        "# Creating Validation and Test set from X,Y_test\n",
        "X_val=X_test[:5000]\n",
        "y_val=y_test[:5000]\n",
        "\n",
        "X_test=X_test[5000:]\n",
        "y_test=y_test[5000:]"
      ],
      "execution_count": null,
      "outputs": []
    },
    {
      "cell_type": "code",
      "source": [
        "print(\"Length of X_val\",len(X_val))\n",
        "print(\"Length of y_val\",len(y_val))\n",
        "print(\"Length of X_test\",len(X_test))\n",
        "print(\"Length of y_test\",len(y_test))"
      ],
      "metadata": {
        "colab": {
          "base_uri": "https://localhost:8080/"
        },
        "id": "A0AhPyKwOsaJ",
        "outputId": "cfe12152-7fb2-4733-bc39-886065d36ce9"
      },
      "execution_count": null,
      "outputs": [
        {
          "output_type": "stream",
          "name": "stdout",
          "text": [
            "Length of X_val 5000\n",
            "Length of y_val 5000\n",
            "Length of X_test 5000\n",
            "Length of y_test 5000\n"
          ]
        }
      ]
    },
    {
      "cell_type": "code",
      "metadata": {
        "id": "Uced0wYnOfpL"
      },
      "source": [
        "# Creating Un-labeled dataset\n",
        "X_unlabeled=X_train[10000:]\n",
        "\n",
        "# Creating Labeled dataset\n",
        "X_labeled=X_train[:10000]\n",
        "y_labeled=y_train[:10000]"
      ],
      "execution_count": null,
      "outputs": []
    },
    {
      "cell_type": "code",
      "source": [
        "print(\"Unlabeled:\")\n",
        "print(\"Length of X_unlabeled\",len(X_unlabeled))\n",
        "print(\"Labeled:\")\n",
        "print(\"Length of X_labeled\",len(X_labeled))\n",
        "print(\"Length of y_labeled\",len(y_labeled))"
      ],
      "metadata": {
        "colab": {
          "base_uri": "https://localhost:8080/"
        },
        "outputId": "bc4e988b-1a3e-49e1-a38a-e3a2d1480766",
        "id": "jap5U2lh61Ud"
      },
      "execution_count": null,
      "outputs": [
        {
          "output_type": "stream",
          "name": "stdout",
          "text": [
            "Unlabeled:\n",
            "Length of X_unlabeled 40000\n",
            "Labeled:\n",
            "Length of X_labeled 10000\n",
            "Length of y_labeled 10000\n"
          ]
        }
      ]
    },
    {
      "cell_type": "markdown",
      "metadata": {
        "id": "cDyufD5wz3to"
      },
      "source": [
        "#Preprocessing Data and creating a validation set"
      ]
    },
    {
      "cell_type": "code",
      "metadata": {
        "id": "Gu7aoc05vpHx"
      },
      "source": [
        "# X_train_0 dataset will contain images rotated by 0 degrees(No rotation)\n",
        "X_train_0=X_unlabeled.copy()\n",
        "\n",
        "# X_train_90 dataset will contain images rotated by 90 degrees\n",
        "X_train_90=np.rot90(X_unlabeled, axes=(1,2))\n",
        "\n",
        "# X_train_180 dataset will contain images rotated by 180 degrees\n",
        "X_train_180=np.rot90(X_unlabeled, 2, axes=(1,2))\n",
        "\n",
        "# X_train_270 dataset will contain images rotated by 270 degrees\n",
        "X_train_270=np.rot90(X_unlabeled, 3, axes=(1,2))"
      ],
      "execution_count": null,
      "outputs": []
    },
    {
      "cell_type": "code",
      "source": [
        "print(\"Length of X_train_0\",len(X_train_0))\n",
        "print(\"Length of X_train_0,90,180,270 (Individually):\",len(X_train_90))\n"
      ],
      "metadata": {
        "colab": {
          "base_uri": "https://localhost:8080/"
        },
        "outputId": "691c769e-f5b4-4f65-cf5b-510cea9ad589",
        "id": "ZI8zrApqCaIH"
      },
      "execution_count": null,
      "outputs": [
        {
          "output_type": "stream",
          "name": "stdout",
          "text": [
            "Length of X_train_0 40000\n",
            "Length of X_train_0,90,180,270 (Individually): 40000\n"
          ]
        }
      ]
    },
    {
      "cell_type": "code",
      "metadata": {
        "id": "HfIRJKVvPfYU"
      },
      "source": [
        "# Assigning pseudo-labels to rotated image datasets\n",
        "y_train_0=np.full((40000), 0)\n",
        "y_train_90=np.full((40000), 1)\n",
        "y_train_180=np.full((40000), 2)\n",
        "y_train_270=np.full((40000), 3)"
      ],
      "execution_count": null,
      "outputs": []
    },
    {
      "cell_type": "code",
      "metadata": {
        "id": "WMmb92uIQhJE"
      },
      "source": [
        "# Concatenating Datasets\n",
        "#Training unlabeled data for X variables\n",
        "X_train_unlabeled_full=np.concatenate((X_train_0, X_train_90, X_train_180, X_train_270), axis=0)\n",
        "#Training unlabeled data for Y variables\n",
        "y_train_unlabeled_full=np.concatenate((y_train_0, y_train_90, y_train_180, y_train_270), axis=0)"
      ],
      "execution_count": null,
      "outputs": []
    },
    {
      "cell_type": "code",
      "source": [
        "print(\"Length of X_train_unlabeled_full\",len(X_train_unlabeled_full))\n",
        "print(\"Length of y_train_unlabeled_full\",len(y_train_unlabeled_full))\n"
      ],
      "metadata": {
        "colab": {
          "base_uri": "https://localhost:8080/"
        },
        "id": "EmJ3G-9vC5PJ",
        "outputId": "eb9d1566-54fb-40c7-8f29-982401a6747a"
      },
      "execution_count": null,
      "outputs": [
        {
          "output_type": "stream",
          "name": "stdout",
          "text": [
            "Length of X_train_unlabeled_full 160000\n",
            "Length of y_train_unlabeled_full 160000\n"
          ]
        }
      ]
    },
    {
      "cell_type": "code",
      "metadata": {
        "id": "BqIRFaAgSmIi"
      },
      "source": [
        "# Function to call for fixed seed random distribution of data samples over both datasets\n",
        "# Function has input and output of two arrays a, b\n",
        "def unison_shuffled_copies(a, b):\n",
        "    assert len(a) == len(b)\n",
        "    np.random.seed(42) #set fixed seed\n",
        "    p = np.random.permutation(len(a))\n",
        "    return a[p], b[p]\n"
      ],
      "execution_count": null,
      "outputs": []
    },
    {
      "cell_type": "code",
      "metadata": {
        "id": "JC8OeE2SS-QF"
      },
      "source": [
        "# Randomly shuffling of training dataset\n",
        "X_train_unlabeled_full_shuffled, y_train_unlabeled_full_shuffled = unison_shuffled_copies(X_train_unlabeled_full, y_train_unlabeled_full)"
      ],
      "execution_count": null,
      "outputs": []
    },
    {
      "cell_type": "markdown",
      "source": [
        "##Coult turn this into a function"
      ],
      "metadata": {
        "id": "gwMTcgqLAvZa"
      }
    },
    {
      "cell_type": "code",
      "source": [
        "# Testing if arrays have been randomised in sequence of values\n",
        "result = np.array_equal(X_train_unlabeled_full_shuffled, X_train_unlabeled_full)\n",
        "\n",
        "if result == False:\n",
        "  print(\"Randomised sequence: Pass\")\n",
        "elif result == True:\n",
        "  print(\"Randomised sequence: Failed\")\n"
      ],
      "metadata": {
        "colab": {
          "base_uri": "https://localhost:8080/"
        },
        "id": "4QTMGytHosT8",
        "outputId": "c970a996-fde4-404f-80bb-913fcf021213"
      },
      "execution_count": null,
      "outputs": [
        {
          "output_type": "stream",
          "name": "stdout",
          "text": [
            "Randomised sequence: Pass\n"
          ]
        }
      ]
    },
    {
      "cell_type": "markdown",
      "source": [
        "##Validation and Test data"
      ],
      "metadata": {
        "id": "mISFM1WbVGk-"
      }
    },
    {
      "cell_type": "code",
      "metadata": {
        "id": "Mqx0PJs9UJMe"
      },
      "source": [
        "# Creating Validation and Test Dataset for Pretext Task\n",
        "#X-validation,Y-Training\n",
        "X_rot_val, X_rot_train = X_train_unlabeled_full_shuffled[:10000], X_train_unlabeled_full_shuffled[10000:]\n",
        "#Y-validation,Y-Training\n",
        "y_rot_val, y_rot_train = y_train_unlabeled_full_shuffled[:10000], y_train_unlabeled_full_shuffled[10000:]"
      ],
      "execution_count": null,
      "outputs": []
    },
    {
      "cell_type": "code",
      "metadata": {
        "id": "CG-OdGkWYbuy"
      },
      "source": [
        "# Reshaping the Inputs\n",
        "X_rot_val=X_rot_val.reshape(-1, 32, 32, 3)\n",
        "X_rot_train=X_rot_train.reshape(-1, 32, 32, 3)"
      ],
      "execution_count": null,
      "outputs": []
    },
    {
      "cell_type": "markdown",
      "source": [
        "## Not sure wtf this is"
      ],
      "metadata": {
        "id": "4LHqBnLMrdSY"
      }
    },
    {
      "cell_type": "code",
      "metadata": {
        "id": "cMviw__uUuSE"
      },
      "source": [
        "# Compiling the model\n",
        "model.compile(loss=\"sparse_categorical_crossentropy\", optimizer=\"sgd\", metrics=[\"accuracy\"])\n",
        "\n",
        "# Training the model on Downstream Task\n",
        "history=model.fit(X_labeled, y_labeled, validation_data=(X_val, y_val), epochs=10)"
      ],
      "execution_count": null,
      "outputs": []
    },
    {
      "cell_type": "markdown",
      "source": [
        "\n",
        "\n",
        "\n",
        "## Exporting the Final datasets that we will use for training\n",
        "\n",
        "Exporting the final datasets to Google Drive into the DATA folder\n",
        "\n",
        "Pretext Task\n",
        "```\n",
        "# Training & Validiation datasets for  Pretext Task\n",
        "X_rot_train, y_rot_train\n",
        "&\n",
        "X_rot_val, y_rot_val\n",
        "```\n",
        "\n",
        "Downstream Task\n",
        "```\n",
        "# Training & Validiation datasets for Downstream Task\n",
        "X_labeled, y_labeled\n",
        "&\n",
        "X_val, y_val\n",
        "```\n",
        "\n",
        "\n",
        "\n",
        "\n",
        "\n"
      ],
      "metadata": {
        "id": "wPy3sSx_QmFf"
      }
    },
    {
      "cell_type": "code",
      "source": [
        "## Save Pretext Task\n",
        "\n",
        "#File path for Google Drive\n",
        "#/content/drive/MyDrive/A Goldsmiths /A Final Project/DEV/FileName\n",
        "\n",
        "#UnlabeledValidation\n",
        "np.save('/content/drive/MyDrive/A Goldsmiths /A Final Project/DEV/Data/X_train' , X_train)\n",
        "np.save('/content/drive/MyDrive/A Goldsmiths /A Final Project/DEV/Data/y_train', y_train)\n",
        "\n",
        "#UnlabeledValidation\n",
        "np.save('/content/drive/MyDrive/A Goldsmiths /A Final Project/DEV/Data/X_rot_val' , X_rot_val)\n",
        "np.save('/content/drive/MyDrive/A Goldsmiths /A Final Project/DEV/Data/y_rot_val', y_rot_val)\n",
        "\n",
        "## Save Downstream Task\n",
        "#labeled\n",
        "np.save('/content/drive/MyDrive/A Goldsmiths /A Final Project/DEV/Data/X_labeled' , X_labeled)\n",
        "np.save('/content/drive/MyDrive/A Goldsmiths /A Final Project/DEV/Data/y_labeled', y_labeled)\n",
        "\n",
        "#labeledValidation\n",
        "np.save('/content/drive/MyDrive/A Goldsmiths /A Final Project/DEV/Data/X_val' , X_val)\n",
        "np.save('/content/drive/MyDrive/A Goldsmiths /A Final Project/DEV/Data/y_val', y_val)"
      ],
      "metadata": {
        "id": "7SD-v0NV1HeA"
      },
      "execution_count": null,
      "outputs": []
    },
    {
      "cell_type": "markdown",
      "source": [
        "#How to import saved models?"
      ],
      "metadata": {
        "id": "dGTY6Y7khZBI"
      }
    },
    {
      "cell_type": "code",
      "source": [
        "## Open The Array Imported From Drive\n",
        "\n",
        "X_testImported = np.load('/content/drive/MyDrive/A Goldsmiths /A Final Project/DEV/X_test.npy', allow_pickle=True)\n",
        "\n",
        "\n",
        "#Print imported array\n",
        "#print(X_testImported)"
      ],
      "metadata": {
        "id": "6Tng-xKFVyuT"
      },
      "execution_count": null,
      "outputs": []
    },
    {
      "cell_type": "code",
      "source": [
        "ImportedModel = tf.keras.models.load_model('/content/drive/MyDrive/A Goldsmiths /A Final Project/DEV/supervised.h5')\n"
      ],
      "metadata": {
        "id": "F0THLI2tO4Z6"
      },
      "execution_count": null,
      "outputs": []
    }
  ]
}